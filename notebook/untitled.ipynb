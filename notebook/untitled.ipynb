{
 "cells": [
  {
   "cell_type": "markdown",
   "id": "7749ce1b",
   "metadata": {},
   "source": [
    "<font size=\"+3\"><b><center> TITRE </center></b></font>"
   ]
  },
  {
   "cell_type": "markdown",
   "id": "f15091c9",
   "metadata": {},
   "source": [
    "# 1. Laoding Librairies"
   ]
  },
  {
   "cell_type": "code",
   "execution_count": 5,
   "id": "9a9f6f76",
   "metadata": {},
   "outputs": [
    {
     "name": "stdout",
     "output_type": "stream",
     "text": [
      "The autoreload extension is already loaded. To reload it, use:\n",
      "  %reload_ext autoreload\n"
     ]
    }
   ],
   "source": [
    "%load_ext autoreload\n",
    "%autoreload 2\n",
    "\n",
    "import sys\n",
    "sys.path.insert(0,\"../\")\n",
    "\n",
    "########################################## IMPORT PYTHON LIBRAIRIES #############################################\n",
    "import os\n",
    "import datetime\n",
    "import pandas as pd\n",
    "########################################## IMPORT SPECIFIC LIBRAIRIES ##########################################\n"
   ]
  },
  {
   "cell_type": "markdown",
   "id": "914263e3",
   "metadata": {},
   "source": [
    "Personnal import"
   ]
  },
  {
   "cell_type": "code",
   "execution_count": null,
   "id": "659f0606",
   "metadata": {},
   "outputs": [],
   "source": []
  },
  {
   "cell_type": "code",
   "execution_count": 1,
   "id": "a4e1a01d",
   "metadata": {},
   "outputs": [],
   "source": [
    "%reload_ext autoreload"
   ]
  },
  {
   "cell_type": "markdown",
   "id": "d5333cea",
   "metadata": {},
   "source": [
    "# 2. "
   ]
  },
  {
   "cell_type": "code",
   "execution_count": null,
   "id": "06dc8e9a",
   "metadata": {},
   "outputs": [],
   "source": []
  },
  {
   "cell_type": "markdown",
   "id": "704a9156",
   "metadata": {},
   "source": [
    "# 3. "
   ]
  },
  {
   "cell_type": "code",
   "execution_count": null,
   "id": "3fe29aa0",
   "metadata": {},
   "outputs": [],
   "source": []
  }
 ],
 "metadata": {
  "kernelspec": {
   "display_name": "Python 3 (ipykernel)",
   "language": "python",
   "name": "python3"
  },
  "language_info": {
   "codemirror_mode": {
    "name": "ipython",
    "version": 3
   },
   "file_extension": ".py",
   "mimetype": "text/x-python",
   "name": "python",
   "nbconvert_exporter": "python",
   "pygments_lexer": "ipython3",
   "version": "3.9.11"
  }
 },
 "nbformat": 4,
 "nbformat_minor": 5
}
